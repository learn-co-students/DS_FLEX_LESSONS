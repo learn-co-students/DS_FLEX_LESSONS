{
 "cells": [
  {
   "cell_type": "markdown",
   "metadata": {},
   "source": [
    "# Python Fundamentals "
   ]
  },
  {
   "cell_type": "markdown",
   "metadata": {},
   "source": [
    "At the end of this you will be able to:\n",
    "- solve code challenges! "
   ]
  },
  {
   "cell_type": "markdown",
   "metadata": {},
   "source": [
    "**Scenario** You have just received a hologram message from a droid:\n",
    "\n",
    "![Leia Hologram](../img/leia.jpeg)\n",
    "*Image from [cinemablend.com](https://www.cinemablend.com/news/2317611/how-star-wars-the-last-jedi-brought-back-the-princess-leia-hologram)*\n",
    "\n",
    "Future Data Science Jedi Knight! Years ago, you served with my father in the Clone Wars.  Now he begs you to help him in his struggle against the Empire. The Rebellion is under siege from a new division of the Empire - Coding Challenges!  We need you to solve these problems!\n",
    "\n",
    "\n",
    "This is our most desperate hour.  Help me, Future Data Science Jedi Knight. You’re my only hope.\n"
   ]
  },
  {
   "cell_type": "markdown",
   "metadata": {},
   "source": [
    "## Problem #1 \n",
    "\n",
    "Create a function that takes an integer as an argument and returns \"Even\" for even numbers or \"Odd\" for odd numbers. \n",
    "> Note: Problem is [here on CodeWars](https://www.codewars.com/kata/53da3dbb4a5168369a0000fe/train/python)"
   ]
  },
  {
   "cell_type": "code",
   "execution_count": 2,
   "metadata": {},
   "outputs": [],
   "source": [
    "def even_or_odd(number):\n",
    "    if number % 2 == 0:\n",
    "        return 'Even'\n",
    "    else:\n",
    "        return 'Odd'"
   ]
  },
  {
   "cell_type": "code",
   "execution_count": 3,
   "metadata": {},
   "outputs": [
    {
     "data": {
      "text/plain": [
       "'Odd'"
      ]
     },
     "execution_count": 3,
     "metadata": {},
     "output_type": "execute_result"
    }
   ],
   "source": [
    "even_or_odd(11)"
   ]
  },
  {
   "cell_type": "code",
   "execution_count": 4,
   "metadata": {},
   "outputs": [
    {
     "data": {
      "text/plain": [
       "'Even'"
      ]
     },
     "execution_count": 4,
     "metadata": {},
     "output_type": "execute_result"
    }
   ],
   "source": [
    "even_or_odd(6)"
   ]
  },
  {
   "cell_type": "markdown",
   "metadata": {},
   "source": [
    "## Problem #2 \n",
    "\n",
    "Complete the solution so that it reverses the string passed into it.\n",
    "\n",
    "`'world'  =>  'dlrow'`\n",
    "\n",
    "> Note: Problem is [here on CodeWars](https://www.codewars.com/kata/5168bb5dfe9a00b126000018/train/python)\n",
    "\n",
    "> Helpful article on [substrings](https://www.freecodecamp.org/news/how-to-substring-a-string-in-python/)"
   ]
  },
  {
   "cell_type": "code",
   "execution_count": 5,
   "metadata": {},
   "outputs": [],
   "source": [
    "def solution(string):\n",
    "    return string[::-1]"
   ]
  },
  {
   "cell_type": "code",
   "execution_count": 6,
   "metadata": {},
   "outputs": [
    {
     "data": {
      "text/plain": [
       "'dlrow'"
      ]
     },
     "execution_count": 6,
     "metadata": {},
     "output_type": "execute_result"
    }
   ],
   "source": [
    "solution('world')"
   ]
  },
  {
   "cell_type": "markdown",
   "metadata": {},
   "source": [
    "## Problem #3 \n",
    "Your goal is to create a function that removes the first and last characters of a string. You're given one parameter, the original string. You don't have to worry with strings with less than two characters.\n",
    "\n",
    "> Note: Problem is [here on CodeWars](https://www.codewars.com/kata/56bc28ad5bdaeb48760009b0)"
   ]
  },
  {
   "cell_type": "code",
   "execution_count": 7,
   "metadata": {},
   "outputs": [],
   "source": [
    "def remove_char(s):\n",
    "    return s[1:-1]"
   ]
  },
  {
   "cell_type": "code",
   "execution_count": 9,
   "metadata": {},
   "outputs": [
    {
     "data": {
      "text/plain": [
       "'orl'"
      ]
     },
     "execution_count": 9,
     "metadata": {},
     "output_type": "execute_result"
    }
   ],
   "source": [
    "remove_char('world')"
   ]
  },
  {
   "cell_type": "markdown",
   "metadata": {},
   "source": [
    "## Problem #4\n",
    "\n",
    "Given an array of integers your solution should find the smallest integer.\n",
    "\n",
    "For example:\n",
    "\n",
    "- Given [34, 15, 88, 2] your solution will return 2\n",
    "- Given [34, -345, -1, 100] your solution will return -345\n",
    "\n",
    "You can assume, for the purpose of this kata, that the supplied array will not be empty.\n",
    "\n",
    "> Note: Problem is [here on CodeWars](https://www.codewars.com/kata/55a2d7ebe362935a210000b2/train/python)"
   ]
  },
  {
   "cell_type": "code",
   "execution_count": 10,
   "metadata": {},
   "outputs": [],
   "source": [
    "arr = [34, 15, 88, 2, -100]\n",
    "\n",
    "def find_smallest_int(arr):\n",
    "    return min(arr)"
   ]
  },
  {
   "cell_type": "code",
   "execution_count": 11,
   "metadata": {},
   "outputs": [
    {
     "data": {
      "text/plain": [
       "-100"
      ]
     },
     "execution_count": 11,
     "metadata": {},
     "output_type": "execute_result"
    }
   ],
   "source": [
    "find_smallest_int(arr)"
   ]
  },
  {
   "cell_type": "markdown",
   "metadata": {},
   "source": [
    "Solved using for loop "
   ]
  },
  {
   "cell_type": "code",
   "execution_count": null,
   "metadata": {},
   "outputs": [],
   "source": [
    "# assign smallest value to start\n",
    "# iterate through all the numbers in arr\n",
    "# check if value is smaller than assigned value "
   ]
  },
  {
   "cell_type": "code",
   "execution_count": 13,
   "metadata": {},
   "outputs": [],
   "source": [
    "def find_smallest_int(arr):\n",
    "    smallest = arr[0]\n",
    "    for num in arr:\n",
    "        if num < smallest:\n",
    "            print(f'{num} is less than {smallest}')\n",
    "            smallest = num\n",
    "    return smallest"
   ]
  },
  {
   "cell_type": "code",
   "execution_count": 14,
   "metadata": {},
   "outputs": [
    {
     "name": "stdout",
     "output_type": "stream",
     "text": [
      "15 is less than 34\n",
      "2 is less than 15\n",
      "-100 is less than 2\n"
     ]
    },
    {
     "data": {
      "text/plain": [
       "-100"
      ]
     },
     "execution_count": 14,
     "metadata": {},
     "output_type": "execute_result"
    }
   ],
   "source": [
    "find_smallest_int(arr)"
   ]
  }
 ],
 "metadata": {
  "kernelspec": {
   "display_name": "Python 3",
   "language": "python",
   "name": "python3"
  },
  "language_info": {
   "codemirror_mode": {
    "name": "ipython",
    "version": 3
   },
   "file_extension": ".py",
   "mimetype": "text/x-python",
   "name": "python",
   "nbconvert_exporter": "python",
   "pygments_lexer": "ipython3",
   "version": "3.7.10"
  }
 },
 "nbformat": 4,
 "nbformat_minor": 4
}
