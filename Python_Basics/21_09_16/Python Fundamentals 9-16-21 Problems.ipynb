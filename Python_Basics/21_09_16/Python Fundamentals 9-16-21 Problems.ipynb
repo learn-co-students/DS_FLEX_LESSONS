{
 "cells": [
  {
   "cell_type": "markdown",
   "metadata": {},
   "source": [
    "# Python Fundamentals 9/9/21\n",
    "\n",
    "At the end of this you will be able to:\n",
    "- solve code challenges! \n",
    "\n",
    "**Scenario** You have just received a hologram message from a droid:\n",
    "\n",
    "![Leia Hologram](../img/leia.jpeg)\n",
    "\n",
    "*Image from [cinemablend.com](https://www.cinemablend.com/news/2317611/how-star-wars-the-last-jedi-brought-back-the-princess-leia-hologram)*\n",
    "\n",
    "Future Data Science Jedi Knight! Years ago, you served with my father in the Clone Wars.  Now he begs you to help him in his struggle against the Empire. The Rebellion is under siege from a new division of the Empire - Coding Challenges!  We need you to solve these problems!\n",
    "\n",
    "\n",
    "This is our most desperate hour.  Help me, Future Data Science Jedi Knight. You’re my only hope."
   ]
  },
  {
   "cell_type": "markdown",
   "metadata": {},
   "source": [
    "## Problem #1\n",
    "\n",
    "Timmy & Sarah think they are in love, but around where they live, they will only know once they pick a flower each. If one of the flowers has an even number of petals and the other has an odd number of petals it means they are in love.\n",
    "\n",
    "Write a function that will take the number of petals of each flower and return true if they are in love and false if they aren't.\n",
    "\n",
    "> Problem is [here on CodeWars](https://www.codewars.com/kata/555086d53eac039a2a000083/train/python)"
   ]
  },
  {
   "cell_type": "code",
   "execution_count": null,
   "metadata": {},
   "outputs": [],
   "source": []
  },
  {
   "cell_type": "code",
   "execution_count": null,
   "metadata": {},
   "outputs": [],
   "source": []
  },
  {
   "cell_type": "code",
   "execution_count": null,
   "metadata": {},
   "outputs": [],
   "source": []
  },
  {
   "cell_type": "code",
   "execution_count": null,
   "metadata": {},
   "outputs": [],
   "source": []
  },
  {
   "cell_type": "code",
   "execution_count": null,
   "metadata": {},
   "outputs": [],
   "source": []
  },
  {
   "cell_type": "markdown",
   "metadata": {},
   "source": [
    "## Problem #2\n",
    "\n",
    "Write function that checks if a given string (case insensitive) is a palindrome.\n",
    "\n",
    "> Problem is [here on CodeWars](https://www.codewars.com/kata/57a1fd2ce298a731b20006a4/train/python)"
   ]
  },
  {
   "cell_type": "code",
   "execution_count": null,
   "metadata": {},
   "outputs": [],
   "source": []
  },
  {
   "cell_type": "code",
   "execution_count": null,
   "metadata": {},
   "outputs": [],
   "source": []
  },
  {
   "cell_type": "code",
   "execution_count": null,
   "metadata": {},
   "outputs": [],
   "source": []
  },
  {
   "cell_type": "code",
   "execution_count": null,
   "metadata": {},
   "outputs": [],
   "source": []
  },
  {
   "cell_type": "code",
   "execution_count": null,
   "metadata": {},
   "outputs": [],
   "source": []
  },
  {
   "cell_type": "markdown",
   "metadata": {},
   "source": [
    "## Problem #3\n",
    "\n",
    "You're running an online business and a big part of your day is fulfilling orders. As your volume picks up that's been taking more of your time, and unfortunately lately you've been running into situations where you take an order but can't fulfill it.\n",
    "\n",
    "You've decided to write a function fillable() that takes three arguments: a dictionary stock representing all the merchandise you have in stock, a string merch representing the thing your customer wants to buy, and an integer n representing the number of units of merch they would like to buy. Your function should return True if you have the merchandise in stock to complete the sale, otherwise it should return False.\n",
    "\n",
    "Valid data will always be passed in and n will always be >= 1.\n",
    "\n",
    "> Problem is [here on CodeWars](https://www.codewars.com/kata/586ee462d0982081bf001f07/train/python)"
   ]
  },
  {
   "cell_type": "code",
   "execution_count": null,
   "metadata": {},
   "outputs": [],
   "source": []
  },
  {
   "cell_type": "code",
   "execution_count": null,
   "metadata": {},
   "outputs": [],
   "source": []
  },
  {
   "cell_type": "code",
   "execution_count": null,
   "metadata": {},
   "outputs": [],
   "source": []
  },
  {
   "cell_type": "code",
   "execution_count": null,
   "metadata": {},
   "outputs": [],
   "source": []
  },
  {
   "cell_type": "code",
   "execution_count": null,
   "metadata": {},
   "outputs": [],
   "source": []
  },
  {
   "cell_type": "code",
   "execution_count": null,
   "metadata": {},
   "outputs": [],
   "source": []
  },
  {
   "cell_type": "markdown",
   "metadata": {},
   "source": [
    "## Problem #4\n",
    "\n",
    "Create a function close_compare that accepts 3 parameters: a, b, and an optional margin. The function should return whether a is lower than, close to, or higher than b.\n",
    "\n",
    "a is considered \"close to\" b if margin is greater than or equal to the distance between a and b.\n",
    "\n",
    "Please note the following:\n",
    "\n",
    "When a is close to b, return 0.\n",
    "Otherwise...\n",
    "\n",
    "When a is less than b, return -1.\n",
    "\n",
    "When a is greater than b, return 1.\n",
    "\n",
    "If margin is not given, treat it as zero.\n",
    "\n",
    "Assume: margin >= 0\n",
    "\n",
    "Tip: Some languages have a way to make parameters optional.\n",
    "\n",
    "> Problem is [here on CodeWars](https://www.codewars.com/kata/56453a12fcee9a6c4700009c/train/python)"
   ]
  },
  {
   "cell_type": "code",
   "execution_count": null,
   "metadata": {},
   "outputs": [],
   "source": []
  },
  {
   "cell_type": "code",
   "execution_count": null,
   "metadata": {},
   "outputs": [],
   "source": []
  },
  {
   "cell_type": "code",
   "execution_count": null,
   "metadata": {},
   "outputs": [],
   "source": []
  },
  {
   "cell_type": "code",
   "execution_count": null,
   "metadata": {},
   "outputs": [],
   "source": []
  },
  {
   "cell_type": "code",
   "execution_count": null,
   "metadata": {},
   "outputs": [],
   "source": []
  },
  {
   "cell_type": "markdown",
   "metadata": {},
   "source": [
    "## Problem #5\n",
    "\n",
    "You're writing code to control your town's traffic lights. You need a function to handle each change from green, to yellow, to red, and then to green again.\n",
    "\n",
    "Complete the function that takes a string as an argument representing the current state of the light and returns a string representing the state the light should change to.\n",
    "\n",
    "For example, update_light('green') should return 'yellow'.\n",
    "\n",
    "> Problem is [here on CodeWars](https://www.codewars.com/kata/58649884a1659ed6cb000072/train/python)"
   ]
  },
  {
   "cell_type": "code",
   "execution_count": null,
   "metadata": {},
   "outputs": [],
   "source": []
  },
  {
   "cell_type": "code",
   "execution_count": null,
   "metadata": {},
   "outputs": [],
   "source": []
  },
  {
   "cell_type": "code",
   "execution_count": null,
   "metadata": {},
   "outputs": [],
   "source": []
  },
  {
   "cell_type": "code",
   "execution_count": null,
   "metadata": {},
   "outputs": [],
   "source": []
  },
  {
   "cell_type": "code",
   "execution_count": null,
   "metadata": {},
   "outputs": [],
   "source": []
  },
  {
   "cell_type": "code",
   "execution_count": null,
   "metadata": {},
   "outputs": [],
   "source": []
  },
  {
   "cell_type": "code",
   "execution_count": null,
   "metadata": {},
   "outputs": [],
   "source": []
  },
  {
   "cell_type": "markdown",
   "metadata": {},
   "source": [
    "## Problem #6\n",
    "\n",
    "Your goal is to return multiplication table for number that is always an integer from 1 to 10.\n",
    "\n",
    "For example, a multiplication table (string) for number == 5 looks like below:\n",
    "\n",
    "1 * 5 = 5\n",
    "2 * 5 = 10\n",
    "3 * 5 = 15\n",
    "4 * 5 = 20\n",
    "5 * 5 = 25\n",
    "6 * 5 = 30\n",
    "7 * 5 = 35\n",
    "8 * 5 = 40\n",
    "9 * 5 = 45\n",
    "10 * 5 = 50\n",
    "P. S. You can use \\n in string to jump to the next line.\n",
    "\n",
    "Note: newlines should be added between rows, but there should be no trailing newline at the end. If you're unsure about the format, look at the sample tests.\n",
    "\n",
    "> Problem is [here on CodeWars](https://www.codewars.com/kata/5a2fd38b55519ed98f0000ce/train/python)"
   ]
  },
  {
   "cell_type": "code",
   "execution_count": null,
   "metadata": {},
   "outputs": [],
   "source": []
  },
  {
   "cell_type": "code",
   "execution_count": null,
   "metadata": {},
   "outputs": [],
   "source": []
  },
  {
   "cell_type": "code",
   "execution_count": null,
   "metadata": {},
   "outputs": [],
   "source": []
  },
  {
   "cell_type": "code",
   "execution_count": null,
   "metadata": {},
   "outputs": [],
   "source": []
  },
  {
   "cell_type": "code",
   "execution_count": null,
   "metadata": {},
   "outputs": [],
   "source": []
  }
 ],
 "metadata": {
  "kernelspec": {
   "display_name": "Python 3",
   "language": "python",
   "name": "python3"
  },
  "language_info": {
   "codemirror_mode": {
    "name": "ipython",
    "version": 3
   },
   "file_extension": ".py",
   "mimetype": "text/x-python",
   "name": "python",
   "nbconvert_exporter": "python",
   "pygments_lexer": "ipython3",
   "version": "3.7.10"
  }
 },
 "nbformat": 4,
 "nbformat_minor": 4
}
