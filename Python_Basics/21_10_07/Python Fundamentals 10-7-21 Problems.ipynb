{
 "cells": [
  {
   "cell_type": "markdown",
   "metadata": {},
   "source": [
    "# Python Fundamentals 10/7/21\n",
    "\n",
    "At the end of this you will be able to:\n",
    "- solve code challenges! \n",
    "\n",
    "**Scenario** You have just received a hologram message from a droid:\n",
    "\n",
    "![Leia Hologram](../img/leia.jpeg)\n",
    "\n",
    "*Image from [cinemablend.com](https://www.cinemablend.com/news/2317611/how-star-wars-the-last-jedi-brought-back-the-princess-leia-hologram)*\n",
    "\n",
    "Future Data Science Jedi Knight! Years ago, you served with my father in the Clone Wars.  Now he begs you to help him in his struggle against the Empire. The Rebellion is under siege from a new division of the Empire - Coding Challenges!  We need you to solve these problems!\n",
    "\n",
    "\n",
    "This is our most desperate hour.  Help me, Future Data Science Jedi Knight. You’re my only hope."
   ]
  },
  {
   "cell_type": "markdown",
   "metadata": {},
   "source": [
    "## Problem #1\n",
    "\n",
    "Create a function that accepts 2 string arguments and returns an integer of the count of occurrences the 2nd argument is found in the first one.\n",
    "\n",
    "If no occurrences can be found, a count of 0 should be returned.\n",
    "\n",
    "(\"Hello\", \"o\")  ==>  1\n",
    "(\"Hello\", \"l\")  ==>  2\n",
    "(\"\", \"z\")       ==>  0\n",
    "\n",
    "> Problem is [here on CodeWars](https://www.codewars.com/kata/5865918c6b569962950002a1)"
   ]
  },
  {
   "cell_type": "code",
   "execution_count": null,
   "metadata": {},
   "outputs": [],
   "source": []
  },
  {
   "cell_type": "code",
   "execution_count": null,
   "metadata": {},
   "outputs": [],
   "source": []
  },
  {
   "cell_type": "code",
   "execution_count": null,
   "metadata": {},
   "outputs": [],
   "source": []
  },
  {
   "cell_type": "code",
   "execution_count": null,
   "metadata": {},
   "outputs": [],
   "source": []
  },
  {
   "cell_type": "code",
   "execution_count": null,
   "metadata": {},
   "outputs": [],
   "source": []
  },
  {
   "cell_type": "markdown",
   "metadata": {},
   "source": [
    "## Problem #2\n",
    "\n",
    "Create a function that converts US dollars (USD) to Chinese Yuan (CNY) . The input is the amount of USD as an integer, and the output should be a string that states the amount of Yuan followed by 'Chinese Yuan'\n",
    "\n",
    "For Example:\n",
    "```\n",
    "  usdcny(15)  => '101.25 Chinese Yuan'\n",
    "  usdcny(465) => '3138.75 Chinese Yuan'\n",
    "  \n",
    "```\n",
    "The conversion rate you should use is 6.75 CNY for every 1 USD. All numbers should be represented as a string with 2 decimal places. (e.g. \"21.00\" NOT \"21.0\" or \"21\")\n",
    "\n",
    "> Problem is [here on CodeWars](https://www.codewars.com/kata/5977618080ef220766000022/train/python)"
   ]
  },
  {
   "cell_type": "code",
   "execution_count": null,
   "metadata": {},
   "outputs": [],
   "source": []
  },
  {
   "cell_type": "code",
   "execution_count": null,
   "metadata": {},
   "outputs": [],
   "source": []
  },
  {
   "cell_type": "code",
   "execution_count": null,
   "metadata": {},
   "outputs": [],
   "source": []
  },
  {
   "cell_type": "code",
   "execution_count": null,
   "metadata": {},
   "outputs": [],
   "source": []
  },
  {
   "cell_type": "code",
   "execution_count": null,
   "metadata": {},
   "outputs": [],
   "source": []
  },
  {
   "cell_type": "code",
   "execution_count": null,
   "metadata": {},
   "outputs": [],
   "source": []
  },
  {
   "cell_type": "markdown",
   "metadata": {},
   "source": [
    "## Problem #3 \n",
    "\n",
    "I have a cat and a dog.\n",
    "\n",
    "I got them at the same time as kitten/puppy. That was humanYears years ago.\n",
    "\n",
    "Return their respective ages now as [humanYears,catYears,dogYears]\n",
    "\n",
    "NOTES:\n",
    "```\n",
    "humanYears >= 1\n",
    "humanYears are whole numbers only\n",
    "Cat Years\n",
    "15 cat years for first year\n",
    "+9 cat years for second year\n",
    "+4 cat years for each year after that\n",
    "Dog Years\n",
    "15 dog years for first year\n",
    "+9 dog years for second year\n",
    "+5 dog years for each year after that\n",
    "```\n",
    "> Problem is [here on CodeWars](https://www.codewars.com/kata/5a6663e9fd56cb5ab800008b/train/python)"
   ]
  },
  {
   "cell_type": "code",
   "execution_count": null,
   "metadata": {},
   "outputs": [],
   "source": []
  },
  {
   "cell_type": "code",
   "execution_count": null,
   "metadata": {},
   "outputs": [],
   "source": []
  },
  {
   "cell_type": "code",
   "execution_count": null,
   "metadata": {},
   "outputs": [],
   "source": []
  },
  {
   "cell_type": "code",
   "execution_count": null,
   "metadata": {},
   "outputs": [],
   "source": []
  },
  {
   "cell_type": "code",
   "execution_count": null,
   "metadata": {},
   "outputs": [],
   "source": []
  },
  {
   "cell_type": "markdown",
   "metadata": {},
   "source": [
    "## Problem #4\n",
    "\n",
    "It's too hot, and they can't even…\n",
    "One hot summer day Pete and his friend Billy decided to buy watermelons. They chose the biggest crate. They rushed home, dying of thirst, and decided to divide their loot, however they faced a hard problem.\n",
    "\n",
    "Pete and Billy are great fans of even numbers, that's why they want to divide the number of watermelons in such a way that each of the two parts consists of an even number of watermelons. However, it is not obligatory that the parts are equal.\n",
    "\n",
    "Example: the boys can divide a stack of 8 watermelons into 2+6 melons, or 4+4 melons.\n",
    "\n",
    "The boys are extremely tired and want to start their meal as soon as possible, that's why you should help them and find out, whether they can divide the fruits in the way they want. For sure, each of them should get a part of positive weight.\n",
    "\n",
    "Task\n",
    "Given an integral number of watermelons w (1 ≤ w ≤ 100; 1 ≤ w in Haskell), check whether Pete and Billy can divide the melons so that each of them gets an even amount.\n",
    "\n",
    "Examples\n",
    "```\n",
    "divide(2) == false # 2 = 1 + 1\n",
    "divide(3) == false # 3 = 1 + 2\n",
    "divide(4) == true  # 4 = 2 + 2\n",
    "divide(5) == false # 5 = 2 + 3\n",
    "divide(6) == true  # 6 = 2 + 4\n",
    "```\n",
    "> Problem is [here on CodeWars](https://www.codewars.com/kata/55192f4ecd82ff826900089e/train/python)"
   ]
  },
  {
   "cell_type": "code",
   "execution_count": null,
   "metadata": {},
   "outputs": [],
   "source": []
  },
  {
   "cell_type": "code",
   "execution_count": null,
   "metadata": {},
   "outputs": [],
   "source": []
  },
  {
   "cell_type": "code",
   "execution_count": null,
   "metadata": {},
   "outputs": [],
   "source": []
  },
  {
   "cell_type": "code",
   "execution_count": null,
   "metadata": {},
   "outputs": [],
   "source": []
  },
  {
   "cell_type": "code",
   "execution_count": null,
   "metadata": {},
   "outputs": [],
   "source": []
  },
  {
   "cell_type": "markdown",
   "metadata": {},
   "source": [
    "## Problem #5\n",
    "\n",
    "Let's play! You have to return which player won! In case of a draw return Draw!.\n",
    "\n",
    "Examples:\n",
    "```\n",
    "rps('scissors','paper') // Player 1 won!\n",
    "rps('scissors','rock') // Player 2 won!\n",
    "rps('paper','paper') // Draw!\n",
    "```\n",
    "> Problem is [here on CodeWars](https://www.codewars.com/kata/5672a98bdbdd995fad00000f/train/python)"
   ]
  },
  {
   "cell_type": "code",
   "execution_count": null,
   "metadata": {},
   "outputs": [],
   "source": []
  },
  {
   "cell_type": "code",
   "execution_count": null,
   "metadata": {},
   "outputs": [],
   "source": []
  },
  {
   "cell_type": "code",
   "execution_count": null,
   "metadata": {},
   "outputs": [],
   "source": []
  },
  {
   "cell_type": "markdown",
   "metadata": {},
   "source": [
    "## Problem #6\n",
    "\n",
    "Create a function which answers the question \"Are you playing banjo?\".\n",
    "If your name starts with the letter \"R\" or lower case \"r\", you are playing banjo!\n",
    "\n",
    "The function takes a name as its only argument, and returns one of the following strings:\n",
    "\n",
    "```\n",
    "name + \" plays banjo\" \n",
    "name + \" does not play banjo\"\n",
    "```\n",
    "> Problem is [here on CodeWars](https://www.codewars.com/kata/53af2b8861023f1d88000832/train/python)"
   ]
  },
  {
   "cell_type": "code",
   "execution_count": null,
   "metadata": {},
   "outputs": [],
   "source": []
  }
 ],
 "metadata": {
  "kernelspec": {
   "display_name": "Python 3",
   "language": "python",
   "name": "python3"
  },
  "language_info": {
   "codemirror_mode": {
    "name": "ipython",
    "version": 3
   },
   "file_extension": ".py",
   "mimetype": "text/x-python",
   "name": "python",
   "nbconvert_exporter": "python",
   "pygments_lexer": "ipython3",
   "version": "3.7.10"
  }
 },
 "nbformat": 4,
 "nbformat_minor": 4
}
