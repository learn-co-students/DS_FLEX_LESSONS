{
 "cells": [
  {
   "cell_type": "markdown",
   "metadata": {},
   "source": [
    "# Python Fundamentals 8/25/21"
   ]
  },
  {
   "cell_type": "markdown",
   "metadata": {},
   "source": [
    "At the end of this you will be able to:\n",
    "- solve code challenges! "
   ]
  },
  {
   "cell_type": "markdown",
   "metadata": {},
   "source": [
    "**Scenario** You have just received a hologram message from a droid:\n",
    "\n",
    "![Leia Hologram](../img/leia.jpeg)\n",
    "*Image from [cinemablend.com](https://www.cinemablend.com/news/2317611/how-star-wars-the-last-jedi-brought-back-the-princess-leia-hologram)*\n",
    "\n",
    "Future Data Science Jedi Knight! Years ago, you served with my father in the Clone Wars.  Now he begs you to help him in his struggle against the Empire. The Rebellion is under siege from a new division of the Empire - Coding Challenges!  We need you to solve these problems!\n",
    "\n",
    "\n",
    "This is our most desperate hour.  Help me, Future Data Science Jedi Knight. You’re my only hope.\n"
   ]
  },
  {
   "cell_type": "markdown",
   "metadata": {},
   "source": [
    "## Problem #1 \n",
    "\n",
    "Clock shows h hours, m minutes and s seconds after midnight.\n",
    "\n",
    "Your task is to write a function which returns the time since midnight in milliseconds.\n",
    "\n",
    "> Note: Problem is [here on CodeWars](https://www.codewars.com/kata/55f9bca8ecaa9eac7100004a/train/python)"
   ]
  },
  {
   "cell_type": "code",
   "execution_count": null,
   "metadata": {},
   "outputs": [],
   "source": []
  },
  {
   "cell_type": "code",
   "execution_count": null,
   "metadata": {},
   "outputs": [],
   "source": []
  },
  {
   "cell_type": "code",
   "execution_count": null,
   "metadata": {},
   "outputs": [],
   "source": []
  },
  {
   "cell_type": "code",
   "execution_count": null,
   "metadata": {},
   "outputs": [],
   "source": []
  },
  {
   "cell_type": "code",
   "execution_count": null,
   "metadata": {},
   "outputs": [],
   "source": []
  },
  {
   "cell_type": "markdown",
   "metadata": {},
   "source": [
    "## Problem #2\n",
    "A hero is on his way to the castle to complete his mission. However, he's been told that the castle is surrounded with a couple of powerful dragons! each dragon takes 2 bullets to be defeated, our hero has no idea how many bullets he should carry.. Assuming he's gonna grab a specific given number of bullets and move forward to fight another specific given number of dragons, will he survive?\n",
    "\n",
    "Return True if yes, False otherwise :)\n",
    "\n",
    "> Note: Problem is [here on CodeWars](https://www.codewars.com/kata/59ca8246d751df55cc00014c/train/python)"
   ]
  },
  {
   "cell_type": "code",
   "execution_count": null,
   "metadata": {},
   "outputs": [],
   "source": []
  },
  {
   "cell_type": "code",
   "execution_count": null,
   "metadata": {},
   "outputs": [],
   "source": []
  },
  {
   "cell_type": "code",
   "execution_count": null,
   "metadata": {},
   "outputs": [],
   "source": []
  },
  {
   "cell_type": "code",
   "execution_count": null,
   "metadata": {},
   "outputs": [],
   "source": []
  },
  {
   "cell_type": "code",
   "execution_count": null,
   "metadata": {},
   "outputs": [],
   "source": []
  },
  {
   "cell_type": "markdown",
   "metadata": {},
   "source": [
    "## Problem #3\n",
    "It's bonus time in the big city! The fatcats are rubbing their paws in anticipation... but who is going to make the most money?\n",
    "\n",
    "Build a function that takes in two arguments (salary, bonus). Salary will be an integer, and bonus a boolean.\n",
    "\n",
    "If bonus is true, the salary should be multiplied by 10. If bonus is false, the fatcat did not make enough money and must receive only his stated salary.\n",
    "\n",
    "Return the total figure the individual will receive as a string prefixed with \"£\" (= \"\\u00A3\", JS, Go, Java and Julia), \"$\" (C#, C++, Ruby, Clojure, Elixir, PHP, Python, Haskell and Lua) or \"¥\" (Rust).\n",
    "\n",
    "> Note: Problem is [here on CodeWars](https://www.codewars.com/kata/56f6ad906b88de513f000d96)"
   ]
  },
  {
   "cell_type": "code",
   "execution_count": null,
   "metadata": {},
   "outputs": [],
   "source": []
  },
  {
   "cell_type": "code",
   "execution_count": null,
   "metadata": {},
   "outputs": [],
   "source": []
  },
  {
   "cell_type": "code",
   "execution_count": null,
   "metadata": {},
   "outputs": [],
   "source": []
  },
  {
   "cell_type": "code",
   "execution_count": null,
   "metadata": {},
   "outputs": [],
   "source": []
  },
  {
   "cell_type": "code",
   "execution_count": null,
   "metadata": {},
   "outputs": [],
   "source": []
  },
  {
   "cell_type": "markdown",
   "metadata": {},
   "source": [
    "## Problem #4\n",
    "\n",
    "You take your son to the forest to see the monkeys. You know that there are a certain number there (n), but your son is too young to just appreciate the full number, he has to start counting them from 1.\n",
    "\n",
    "As a good parent, you will sit and count with him. Given the number (n), populate an array with all numbers up to and including that number, but excluding zero.\n",
    "\n",
    "For example:\n",
    "```\n",
    "monkeyCount(10) # --> [1, 2, 3, 4, 5, 6, 7, 8, 9, 10]\n",
    "monkeyCount(1) # --> [1]\n",
    "```\n",
    "\n",
    "> Problem is [here on CodeWars](https://www.codewars.com/kata/56f69d9f9400f508fb000ba7/train/python)"
   ]
  },
  {
   "cell_type": "code",
   "execution_count": null,
   "metadata": {},
   "outputs": [],
   "source": []
  },
  {
   "cell_type": "code",
   "execution_count": null,
   "metadata": {},
   "outputs": [],
   "source": []
  },
  {
   "cell_type": "code",
   "execution_count": null,
   "metadata": {},
   "outputs": [],
   "source": []
  },
  {
   "cell_type": "code",
   "execution_count": null,
   "metadata": {},
   "outputs": [],
   "source": []
  },
  {
   "cell_type": "code",
   "execution_count": null,
   "metadata": {},
   "outputs": [],
   "source": []
  },
  {
   "cell_type": "markdown",
   "metadata": {},
   "source": [
    "## Problem #5\n",
    "Deoxyribonucleic acid, DNA is the primary information storage molecule in biological systems. It is composed of four nucleic acid bases Guanine ('G'), Cytosine ('C'), Adenine ('A'), and Thymine ('T').\n",
    "\n",
    "Ribonucleic acid, RNA, is the primary messenger molecule in cells. RNA differs slightly from DNA its chemical structure and contains no Thymine. In RNA Thymine is replaced by another nucleic acid Uracil ('U').\n",
    "\n",
    "Create a function which translates a given DNA string into RNA.\n",
    "\n",
    "For example:\n",
    "\n",
    "```\n",
    "\"GCAT\"  =>  \"GCAU\"\n",
    "```\n",
    "The input string can be of arbitrary length - in particular, it may be empty. All input is guaranteed to be valid, i.e. each input string will only ever consist of 'G', 'C', 'A' and/or 'T'.\n",
    "> Problem is [here on CodeWars](https://www.codewars.com/kata/5556282156230d0e5e000089/train/python)"
   ]
  },
  {
   "cell_type": "code",
   "execution_count": null,
   "metadata": {},
   "outputs": [],
   "source": []
  },
  {
   "cell_type": "code",
   "execution_count": null,
   "metadata": {},
   "outputs": [],
   "source": []
  },
  {
   "cell_type": "code",
   "execution_count": null,
   "metadata": {},
   "outputs": [],
   "source": []
  },
  {
   "cell_type": "code",
   "execution_count": null,
   "metadata": {},
   "outputs": [],
   "source": []
  },
  {
   "cell_type": "code",
   "execution_count": null,
   "metadata": {},
   "outputs": [],
   "source": []
  },
  {
   "cell_type": "markdown",
   "metadata": {},
   "source": [
    "## Problem #6\n",
    "You were camping with your friends far away from home, but when it's time to go back, you realize that your fuel is running out and the nearest pump is 50 miles away! You know that on average, your car runs on about 25 miles per gallon. There are 2 gallons left. Considering these factors, write a function that tells you if it is possible to get to the pump or not. Function should return true (1 in Prolog) if it is possible and false (0 in Prolog) if not. The input values are always positive.\n",
    "> Problem is [here on CodeWars](https://www.codewars.com/kata/5861d28f124b35723e00005e/train/python)"
   ]
  },
  {
   "cell_type": "code",
   "execution_count": null,
   "metadata": {},
   "outputs": [],
   "source": []
  },
  {
   "cell_type": "code",
   "execution_count": null,
   "metadata": {},
   "outputs": [],
   "source": []
  },
  {
   "cell_type": "code",
   "execution_count": null,
   "metadata": {},
   "outputs": [],
   "source": []
  }
 ],
 "metadata": {
  "kernelspec": {
   "display_name": "Python 3",
   "language": "python",
   "name": "python3"
  },
  "language_info": {
   "codemirror_mode": {
    "name": "ipython",
    "version": 3
   },
   "file_extension": ".py",
   "mimetype": "text/x-python",
   "name": "python",
   "nbconvert_exporter": "python",
   "pygments_lexer": "ipython3",
   "version": "3.7.10"
  }
 },
 "nbformat": 4,
 "nbformat_minor": 4
}
